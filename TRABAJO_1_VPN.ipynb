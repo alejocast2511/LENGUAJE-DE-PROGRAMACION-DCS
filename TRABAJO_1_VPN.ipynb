{
  "nbformat": 4,
  "nbformat_minor": 0,
  "metadata": {
    "colab": {
      "provenance": [],
      "authorship_tag": "ABX9TyMb5JSoDb+0h7Sny5Nj2hvL",
      "include_colab_link": true
    },
    "kernelspec": {
      "name": "python3",
      "display_name": "Python 3"
    },
    "language_info": {
      "name": "python"
    }
  },
  "cells": [
    {
      "cell_type": "markdown",
      "metadata": {
        "id": "view-in-github",
        "colab_type": "text"
      },
      "source": [
        "<a href=\"https://colab.research.google.com/github/alejocast2511/LENGUAJE-DE-PROGRAMACION-DCS/blob/main/TRABAJO_1_VPN.ipynb\" target=\"_parent\"><img src=\"https://colab.research.google.com/assets/colab-badge.svg\" alt=\"Open In Colab\"/></a>"
      ]
    },
    {
      "cell_type": "code",
      "execution_count": null,
      "metadata": {
        "id": "1JN8uHU4X1qP"
      },
      "outputs": [],
      "source": []
    },
    {
      "cell_type": "markdown",
      "source": [
        "#VALOR PRESENTE NETO\n",
        "\n",
        "El Valor Presente Neto (VPN), también conocido como Valor Actual Neto (VAN), es una herramienta financiera utilizada para evaluar la rentabilidad de un proyecto de inversión. En términos sencillos, el VPN es la diferencia entre el valor actual de los flujos de caja futuros de un proyecto y su costo inicial.\n",
        "\n",
        "##FORMULA  VALOR PRESENTE NETO\n",
        "\n",
        "La formula del $VPN$ se expresa de la siguiente manera:\n",
        "\n",
        "[$$ VPN=\\sum_{T=0}^{n}\\frac{C_t}{(1+r)^t}-C_0$$\\]\n",
        "\n",
        "donde:\n",
        "- \\(C_t\\), es el flujo de caja en el tiempo \\(t\\).\n",
        "- \\(r\\), es el rendimiento.\n",
        "- \\(n\\), es el numero total de periodos.\n",
        "- \\(C_0\\), es la inversion inicial.\n",
        "\n",
        "##Interpretacion\n",
        "- Si \\(VPN > 0\\), la inversion es rentable.\n",
        "- Si \\(VPN < 0\\), la inversion no es rentable.\n",
        "- Si \\(VPN = 0\\), la inversion no genera ni perdidas ni ganancias.\n",
        "\n",
        "##Enlace util\n",
        "\n",
        "Para obtener mas informacion sobre el Valor presente neto (VPN) consulte el siguiente [enlace](https://economipedia.com/definiciones/valor-actual-neto.html).\n",
        "\n"
      ],
      "metadata": {
        "id": "yizPXtv1YflR"
      }
    },
    {
      "cell_type": "code",
      "source": [
        "# Declaracion de variables\n",
        "\n",
        "Flujo_ano_1 = 50000\n",
        "Flujo_ano_2 = 30000\n",
        "Flujo_ano_3 = 45000\n",
        "Tasa_descuento = 0.05\n",
        "Inversion_inicial = 18500"
      ],
      "metadata": {
        "id": "fEZjOkbPhHOT"
      },
      "execution_count": 26,
      "outputs": []
    },
    {
      "cell_type": "code",
      "source": [
        "# Cálculo del VPN\n",
        "vpn = (Flujo_ano_1 / (1 + Tasa_descuento)**1) + \\\n",
        "      (Flujo_ano_2 / (1 + Tasa_descuento)**2) + \\\n",
        "      (Flujo_ano_3 / (1 + Tasa_descuento)**3) - Inversion_inicial\n",
        "print(\"El valor presente neto (VPN) es:\", vpn)\n"
      ],
      "metadata": {
        "colab": {
          "base_uri": "https://localhost:8080/"
        },
        "id": "tkAWp26VhXCW",
        "outputId": "7ee2bd89-b3ca-4e1e-f38c-face85c9afc3"
      },
      "execution_count": 27,
      "outputs": [
        {
          "output_type": "stream",
          "name": "stdout",
          "text": [
            "El valor presente neto (VPN) es: 95202.62390670553\n"
          ]
        }
      ]
    },
    {
      "cell_type": "code",
      "source": [
        "## Interpretacion del resultado\n",
        "if vpn > 0:\n",
        "    print(\"El proyecto es viable. ¡Se recomienda su aceptación! \")\n",
        "else:\n",
        "    print(\"El proyecto no es viable. ¡No se recomienda su aceptación! \")"
      ],
      "metadata": {
        "id": "HVe0mURfh3I9",
        "colab": {
          "base_uri": "https://localhost:8080/"
        },
        "outputId": "8a2ba36f-4107-4bb2-9749-724de8a8c53b"
      },
      "execution_count": 29,
      "outputs": [
        {
          "output_type": "stream",
          "name": "stdout",
          "text": [
            "El proyecto es viable. ¡Se recomienda su aceptación! \n"
          ]
        }
      ]
    }
  ]
}