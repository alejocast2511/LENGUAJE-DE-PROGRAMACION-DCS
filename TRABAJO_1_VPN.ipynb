{
  "nbformat": 4,
  "nbformat_minor": 0,
  "metadata": {
    "colab": {
      "provenance": []
    },
    "kernelspec": {
      "name": "python3",
      "display_name": "Python 3"
    },
    "language_info": {
      "name": "python"
    }
  },
  "cells": [
    {
      "cell_type": "code",
      "execution_count": 28,
      "metadata": {
        "id": "1JN8uHU4X1qP"
      },
      "outputs": [],
      "source": []
    },
    {
      "cell_type": "markdown",
      "source": [
        "#VALOR PRESENTE NETO\n",
        "\n",
        "El Valor Presente Neto (VPN), también conocido como Valor Actual Neto (VAN), es una herramienta financiera utilizada para evaluar la rentabilidad de un proyecto de inversión. En términos sencillos, el VPN es la diferencia entre el valor actual de los flujos de caja futuros de un proyecto y su costo inicial.\n",
        "\n",
        "##FORMULA  VALOR PRESENTE NETO\n",
        "\n",
        "La formula del $VPN$ se expresa de la siguiente manera:\n",
        "\n",
        "[$$ VPN=\\sum_{T=0}^{n}\\frac{C_t}{(1+r)^t}-C_0$$\\]\n",
        "\n",
        "donde:\n",
        "- \\(C_t\\), es el flujo de caja en el tiempo \\(t\\).\n",
        "- \\(r\\), es el rendimiento.\n",
        "- \\(n\\), es el numero total de periodos.\n",
        "- \\(C_0\\), es la inversion inicial.\n",
        "\n",
        "##Interpretacion\n",
        "- Si \\(VPN > 0\\), la inversion es rentable.\n",
        "- Si \\(VPN < 0\\), la inversion no es rentable.\n",
        "- Si \\(VPN = 0\\), la inversion no genera ni perdidas ni ganancias.\n",
        "\n",
        "##Enlace util\n",
        "\n",
        "Para obtener mas informacion sobre el Valor presente neto (VPN) consulte el siguiente [enlace](https://economipedia.com/definiciones/valor-actual-neto.html).\n",
        "\n"
      ],
      "metadata": {
        "id": "yizPXtv1YflR"
      }
    },
    {
      "cell_type": "code",
      "source": [
        "# Declaracion de variables\n",
        "\n",
        "Flujo_ano_1 = 3000\n",
        "Flujo_ano_2 = 3000\n",
        "Flujo_ano_3 = 3000\n",
        "Tasa_descuento = 0.05\n",
        "Inversion_inicial = 10000"
      ],
      "metadata": {
        "id": "fEZjOkbPhHOT"
      },
      "execution_count": 29,
      "outputs": []
    },
    {
      "cell_type": "code",
      "source": [
        "# Cálculo del VPN\n",
        "vpn = (Flujo_ano_1 / (1 + Tasa_descuento)**1) + \\\n",
        "      (Flujo_ano_2 / (1 + Tasa_descuento)**2) + \\\n",
        "      (Flujo_ano_3 / (1 + Tasa_descuento)**3) - Inversion_inicial\n",
        "print(\"El valor presente neto (VPN) es:\", vpn)\n"
      ],
      "metadata": {
        "colab": {
          "base_uri": "https://localhost:8080/"
        },
        "id": "tkAWp26VhXCW",
        "outputId": "0b29173d-6a20-488d-90ce-404f35c5b802"
      },
      "execution_count": 30,
      "outputs": [
        {
          "output_type": "stream",
          "name": "stdout",
          "text": [
            "El valor presente neto (VPN) es: -1830.2559118885656\n"
          ]
        }
      ]
    },
    {
      "cell_type": "code",
      "source": [
        "## Interpretacion del resultado\n",
        "if vpn > 0:\n",
        "    print(\"El proyecto es viable. ¡Se recomienda su aceptación! 🎉\")\n",
        "else:\n",
        "    print(\"El proyecto no es viable. ¡No se recomienda su aceptación! \")"
      ],
      "metadata": {
        "id": "HVe0mURfh3I9",
        "colab": {
          "base_uri": "https://localhost:8080/"
        },
        "outputId": "c606b416-21b8-47d9-efbd-5ead69008d1c"
      },
      "execution_count": 31,
      "outputs": [
        {
          "output_type": "stream",
          "name": "stdout",
          "text": [
            "El proyecto no es viable. ¡No se recomienda su aceptación! \n"
          ]
        }
      ]
    }
  ]
}